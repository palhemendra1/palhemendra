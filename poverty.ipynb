{
 "cells": [
  {
   "cell_type": "code",
   "execution_count": 13,
   "id": "bb5deddf-cc01-4d16-bf68-aff508e2dbd2",
   "metadata": {},
   "outputs": [
    {
     "data": {
      "text/html": [
       "\n",
       "        <iframe\n",
       "            width=\"100%\"\n",
       "            height=\"650\"\n",
       "            src=\"http://127.0.0.1:8050/\"\n",
       "            frameborder=\"0\"\n",
       "            allowfullscreen\n",
       "            \n",
       "        ></iframe>\n",
       "        "
      ],
      "text/plain": [
       "<IPython.lib.display.IFrame at 0x12f994b3d90>"
      ]
     },
     "metadata": {},
     "output_type": "display_data"
    }
   ],
   "source": [
    "import dash\n",
    "from dash import dcc, html\n",
    "import plotly.express as px\n",
    "import pandas as pd\n",
    "import webbrowser\n",
    "import threading\n",
    "\n",
    "# Sample data for the table (this should be the full data you're working with)\n",
    "data = {\n",
    "    \"Country\": [\"United States\", \"China\", \"India\", \"Germany\", \"Russia\", \"Canada\", \"Italy\", \"Hong Kong\", \"Brazil\", \"United Kingdom\"],\n",
    "    \"Poverty Line Used\": [\"National threshold\", \"$5.50/day (UMIC)\", \"$3.65/day (LMIC)\", \"Risk of poverty (EU)\", \"$5.50/day (UMIC)\", \"National threshold\", \"National threshold (EU)\", \"National threshold\", \"$3.65/day (LMIC)\", \"National threshold (EU)\"],\n",
    "    \"Poverty Rate (%)\": [18.0, 17.0, 28.1, 21.2, 2.0, 11.9, 20.1, 20.0, 8.42, 18.6],\n",
    "    \"Notes\": [\n",
    "        \"U.S. Census Bureau official poverty rate.\",\n",
    "        \"Based on World Bank’s upper-middle-income threshold.\",\n",
    "        \"Significant decline from over 60% in 2011–12.\",\n",
    "        \"At risk of poverty or social exclusion, used in EU stats.\",\n",
    "        \"Very low by international standards.\",\n",
    "        \"Canada uses Market Basket Measure.\",\n",
    "        \"Eurostat: at-risk-of-poverty rate.\",\n",
    "        \"Based on official local poverty rate before government interventions.\",\n",
    "        \"World Bank LMIC threshold.\",\n",
    "        \"Based on national poverty data; relative poverty threshold.\"\n",
    "    ]\n",
    "}\n",
    "\n",
    "df = pd.DataFrame(data)\n",
    "\n",
    "# Create a simple choropleth map (replace with your actual data for the map)\n",
    "fig = px.choropleth(df, \n",
    "                    locations=\"Country\", \n",
    "                    locationmode=\"country names\", \n",
    "                    color=\"Poverty Rate (%)\", \n",
    "                    color_continuous_scale=\"Greens\", \n",
    "                    title=\"% of Population Living in Poverty (2023-2024)\")\n",
    "\n",
    "# Set up Dash app\n",
    "app = dash.Dash(__name__)\n",
    "\n",
    "app.layout = html.Div([\n",
    "    html.H1(\"Global Poverty Rates by Country (2023-2024)\"),\n",
    "    \n",
    "    # Graph: Choropleth map\n",
    "    dcc.Graph(figure=fig),\n",
    "    \n",
    "    # Table: Poverty Rates\n",
    "    html.H2(\"Poverty Data Table\"),\n",
    "    html.Table([\n",
    "        html.Thead(\n",
    "            html.Tr([html.Th(col) for col in df.columns])\n",
    "        ),\n",
    "        html.Tbody([\n",
    "            html.Tr([\n",
    "                html.Td(df.iloc[i][col]) for col in df.columns\n",
    "            ]) for i in range(len(df))\n",
    "        ])\n",
    "    ])\n",
    "])\n",
    "\n",
    "# Function to open the web browser\n",
    "def open_browser():\n",
    "    webbrowser.open(\"http://127.0.0.1:8050/\")\n",
    "\n",
    "# Run the app in a separate thread to allow the browser to open\n",
    "if __name__ == '__main__':\n",
    "    threading.Timer(1, open_browser).start()\n",
    "    app.run(debug=True, use_reloader=False)  # use_reloader=False to avoid conflict with threading\n"
   ]
  },
  {
   "cell_type": "code",
   "execution_count": 11,
   "id": "ccf13643-0020-4e1d-a2ad-2c5849ed9d61",
   "metadata": {},
   "outputs": [
    {
     "name": "stdout",
     "output_type": "stream",
     "text": [
      "Requirement already satisfied: dash in c:\\users\\hemendra\\miniconda3\\lib\\site-packages (3.0.4)\n",
      "Requirement already satisfied: Flask<3.1,>=1.0.4 in c:\\users\\hemendra\\miniconda3\\lib\\site-packages (from dash) (3.0.3)\n",
      "Requirement already satisfied: Werkzeug<3.1 in c:\\users\\hemendra\\miniconda3\\lib\\site-packages (from dash) (3.0.6)\n",
      "Requirement already satisfied: plotly>=5.0.0 in c:\\users\\hemendra\\miniconda3\\lib\\site-packages (from dash) (6.1.0)\n",
      "Requirement already satisfied: importlib-metadata in c:\\users\\hemendra\\miniconda3\\lib\\site-packages (from dash) (8.7.0)\n",
      "Requirement already satisfied: typing-extensions>=4.1.1 in c:\\users\\hemendra\\miniconda3\\lib\\site-packages (from dash) (4.12.2)\n",
      "Requirement already satisfied: requests in c:\\users\\hemendra\\miniconda3\\lib\\site-packages (from dash) (2.32.3)\n",
      "Requirement already satisfied: retrying in c:\\users\\hemendra\\miniconda3\\lib\\site-packages (from dash) (1.3.4)\n",
      "Requirement already satisfied: nest-asyncio in c:\\users\\hemendra\\miniconda3\\lib\\site-packages (from dash) (1.6.0)\n",
      "Requirement already satisfied: setuptools in c:\\users\\hemendra\\miniconda3\\lib\\site-packages (from dash) (72.1.0)\n",
      "Requirement already satisfied: Jinja2>=3.1.2 in c:\\users\\hemendra\\miniconda3\\lib\\site-packages (from Flask<3.1,>=1.0.4->dash) (3.1.6)\n",
      "Requirement already satisfied: itsdangerous>=2.1.2 in c:\\users\\hemendra\\miniconda3\\lib\\site-packages (from Flask<3.1,>=1.0.4->dash) (2.2.0)\n",
      "Requirement already satisfied: click>=8.1.3 in c:\\users\\hemendra\\miniconda3\\lib\\site-packages (from Flask<3.1,>=1.0.4->dash) (8.2.0)\n",
      "Requirement already satisfied: blinker>=1.6.2 in c:\\users\\hemendra\\miniconda3\\lib\\site-packages (from Flask<3.1,>=1.0.4->dash) (1.9.0)\n",
      "Requirement already satisfied: narwhals>=1.15.1 in c:\\users\\hemendra\\miniconda3\\lib\\site-packages (from plotly>=5.0.0->dash) (1.39.1)\n",
      "Requirement already satisfied: packaging in c:\\users\\hemendra\\miniconda3\\lib\\site-packages (from plotly>=5.0.0->dash) (24.2)\n",
      "Requirement already satisfied: MarkupSafe>=2.1.1 in c:\\users\\hemendra\\miniconda3\\lib\\site-packages (from Werkzeug<3.1->dash) (3.0.2)\n",
      "Requirement already satisfied: zipp>=3.20 in c:\\users\\hemendra\\miniconda3\\lib\\site-packages (from importlib-metadata->dash) (3.21.0)\n",
      "Requirement already satisfied: charset-normalizer<4,>=2 in c:\\users\\hemendra\\miniconda3\\lib\\site-packages (from requests->dash) (3.3.2)\n",
      "Requirement already satisfied: idna<4,>=2.5 in c:\\users\\hemendra\\miniconda3\\lib\\site-packages (from requests->dash) (3.7)\n",
      "Requirement already satisfied: urllib3<3,>=1.21.1 in c:\\users\\hemendra\\miniconda3\\lib\\site-packages (from requests->dash) (2.3.0)\n",
      "Requirement already satisfied: certifi>=2017.4.17 in c:\\users\\hemendra\\miniconda3\\lib\\site-packages (from requests->dash) (2025.4.26)\n",
      "Requirement already satisfied: six>=1.7.0 in c:\\users\\hemendra\\miniconda3\\lib\\site-packages (from retrying->dash) (1.17.0)\n",
      "Requirement already satisfied: colorama in c:\\users\\hemendra\\miniconda3\\lib\\site-packages (from click>=8.1.3->Flask<3.1,>=1.0.4->dash) (0.4.6)\n",
      "Note: you may need to restart the kernel to use updated packages.\n"
     ]
    }
   ],
   "source": [
    "pip install dash --upgrade"
   ]
  },
  {
   "cell_type": "code",
   "execution_count": null,
   "id": "ccfbecf7-7f67-4e82-858b-30d6643ba802",
   "metadata": {},
   "outputs": [],
   "source": []
  },
  {
   "cell_type": "code",
   "execution_count": null,
   "id": "0554d08d-964b-4d7d-9d36-5b10bd827eee",
   "metadata": {},
   "outputs": [],
   "source": []
  },
  {
   "cell_type": "code",
   "execution_count": null,
   "id": "33af09a9-e665-4b9d-b779-ae11b49f58a9",
   "metadata": {},
   "outputs": [],
   "source": []
  }
 ],
 "metadata": {
  "kernelspec": {
   "display_name": "Python 3 (ipykernel)",
   "language": "python",
   "name": "python3"
  },
  "language_info": {
   "codemirror_mode": {
    "name": "ipython",
    "version": 3
   },
   "file_extension": ".py",
   "mimetype": "text/x-python",
   "name": "python",
   "nbconvert_exporter": "python",
   "pygments_lexer": "ipython3",
   "version": "3.13.2"
  }
 },
 "nbformat": 4,
 "nbformat_minor": 5
}
