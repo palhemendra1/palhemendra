{
 "cells": [
  {
   "cell_type": "code",
   "execution_count": null,
   "id": "072c0052-3cf5-4087-95a1-c64f1b7b103c",
   "metadata": {},
   "outputs": [],
   "source": [
    "import plotly.express as px\n",
    "\n",
    "# Create a DataFrame (example)\n",
    "import pandas as pd\n",
    "\n",
    "df = pd.DataFrame({\n",
    "    \"Country\": [\"United States\", \"China\", \"India\"],\n",
    "    \"Poverty_Pct\": [11.6, 24.0, 21.9]\n",
    "})\n",
    "\n",
    "# Create a Plotly choropleth (or any other plot)\n",
    "fig = px.choropleth(df, \n",
    "                    locations=\"Country\", \n",
    "                    locationmode=\"country names\", \n",
    "                    color=\"Poverty_Pct\", \n",
    "                    color_continuous_scale=\"Viridis\",\n",
    "                    title=\"% of Population Living in Poverty\")\n",
    "\n",
    "# Show the plot\n",
    "fig.show()\n"
   ]
  }
 ],
 "metadata": {
  "kernelspec": {
   "display_name": "Python 3 (ipykernel)",
   "language": "python",
   "name": "python3"
  },
  "language_info": {
   "codemirror_mode": {
    "name": "ipython",
    "version": 3
   },
   "file_extension": ".py",
   "mimetype": "text/x-python",
   "name": "python",
   "nbconvert_exporter": "python",
   "pygments_lexer": "ipython3",
   "version": "3.13.2"
  }
 },
 "nbformat": 4,
 "nbformat_minor": 5
}
