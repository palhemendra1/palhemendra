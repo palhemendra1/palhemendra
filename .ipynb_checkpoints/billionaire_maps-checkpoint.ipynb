{
 "cells": [
  {
   "cell_type": "code",
   "execution_count": null,
   "id": "faa62faa-87f9-4164-ac0e-23b5d46949d1",
   "metadata": {},
   "outputs": [],
   "source": [
    "import plotly.io as pio\n",
    "pio.renderers.default = 'jupyterlab'  # Use 'notebook' if using Jupyter Notebook\n",
    "import pandas as pd\n",
    "import plotly.express as px\n",
    "from IPython.display import display, HTML\n",
    "\n",
    "# Data\n",
    "data = {\n",
    "    \"Country\": [\n",
    "        \"United States\", \"China\", \"India\", \"Germany\", \"Russia\",\n",
    "        \"Canada\", \"Italy\", \"Hong Kong\", \"Brazil\", \"United Kingdom\"\n",
    "    ],\n",
    "    \"Billionaires\": [902, 450, 205, 171, 140, 76, 74, 66, 56, 55],\n",
    "    \"Wealth_Billion_USD\": [6800, 1700, 941, 793, 580, 359, 339, 335, 212, 238],\n",
    "    \"Population_Millions\": [331, 1440, 1393, 83, 146, 38, 60, 7.5, 213, 68],\n",
    "    \"Country_Total_Wealth_Billion_USD\": [145000, 85000, 15000, 18000, 9500, 11000, 10000, 1700, 4000, 17000],\n",
    "    \"Top10Pct_Wealth_Share\": [70, 60, 65, 68, 70, 72, 68, 75, 60, 69],\n",
    "    \"Poverty_Pct\": [11.6, 25, 21.9, 15.8, 12.3, 9.4, 13.5, 19.9, 23.5, 18.6]\n",
    "}\n",
    "\n",
    "df = pd.DataFrame(data)\n",
    "\n",
    "# Derived metrics\n",
    "df[\"Billionaires_per_Million\"] = df[\"Billionaires\"] / df[\"Population_Millions\"]\n",
    "df[\"Billionaire_Wealth_Share_Pct\"] = (df[\"Wealth_Billion_USD\"] / df[\"Country_Total_Wealth_Billion_USD\"]) * 100\n",
    "df[\"Billionaire_Wealth_vs_Top10Pct\"] = (df[\"Billionaire_Wealth_Share_Pct\"] / df[\"Top10Pct_Wealth_Share\"]) * 100\n",
    "\n",
    "# Function to show map and table\n",
    "def show_map_and_table(df, column, title, scale):\n",
    "    fig = px.choropleth(df, locations=\"Country\", locationmode=\"country names\",\n",
    "                        color=column, color_continuous_scale=scale, title=title)\n",
    "    fig.show()\n",
    "    \n",
    "    display(HTML(f\"<h3>Data Table: {title}</h3>\"))\n",
    "    display(df[[\"Country\", column]].sort_values(by=column, ascending=False).style.format(precision=2))\n",
    "\n",
    "# Heatmap + Table 1: Number of Billionaires\n",
    "show_map_and_table(df, \"Billionaires\", \"Number of Billionaires (2025)\", \"Reds\")\n",
    "\n",
    "# Heatmap + Table 2: Billionaires per Million People\n",
    "show_map_and_table(df, \"Billionaires_per_Million\", \"Billionaires per Million People (2025)\", \"Blues\")\n",
    "\n",
    "# Heatmap + Table 3: % of Country's Wealth Held by Billionaires\n",
    "show_map_and_table(df, \"Billionaire_Wealth_Share_Pct\", \"% of Country’s Wealth Held by Billionaires\", \"Oranges\")\n",
    "\n",
    "# Heatmap + Table 4: % of Top 10% Wealth Represented by Billionaires\n",
    "show_map_and_table(df, \"Billionaire_Wealth_vs_Top10Pct\", \"Billionaire Share of Top 10% Wealth (2025)\", \"Purples\")\n",
    "\n",
    "# Heatmap + Table 5: % of Population Living in Poverty\n",
    "show_map_and_table(df, \"Poverty_Pct\", \"% of Population Living in Poverty\", \"Greens\")\n",
    "\n",
    "fig.show()\n",
    "\n"
   ]
  }
 ],
 "metadata": {
  "kernelspec": {
   "display_name": "Python 3 (ipykernel)",
   "language": "python",
   "name": "python3"
  },
  "language_info": {
   "codemirror_mode": {
    "name": "ipython",
    "version": 3
   },
   "file_extension": ".py",
   "mimetype": "text/x-python",
   "name": "python",
   "nbconvert_exporter": "python",
   "pygments_lexer": "ipython3",
   "version": "3.13.2"
  }
 },
 "nbformat": 4,
 "nbformat_minor": 5
}
